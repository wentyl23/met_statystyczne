{
 "cells": [
  {
   "cell_type": "code",
   "execution_count": 240,
   "id": "2494a2cb-1496-4e5b-acc3-2b9352ebf45c",
   "metadata": {},
   "outputs": [],
   "source": [
    "import random\n",
    "import matplotlib.pyplot as plt\n",
    "import math\n",
    "import numpy as np"
   ]
  },
  {
   "cell_type": "code",
   "execution_count": 241,
   "id": "f6ea9848-7433-487c-b2cb-a62fa3c8864d",
   "metadata": {},
   "outputs": [],
   "source": [
    "def exponential(l):\n",
    "    u = random.random()\n",
    "    return -math.log(u)/l"
   ]
  },
  {
   "cell_type": "code",
   "execution_count": 242,
   "id": "6ae82b98-4f87-4ccc-8bbf-6fba1c06562e",
   "metadata": {},
   "outputs": [],
   "source": [
    "lambda_a = 2\n",
    "lambda_d = 5\n",
    "n_of_tasks=1000"
   ]
  },
  {
   "cell_type": "code",
   "execution_count": 243,
   "id": "7a0e93fa-84ba-40de-90d0-4a405f2fa18c",
   "metadata": {},
   "outputs": [],
   "source": [
    "tasks=[]\n",
    "for i in range(n_of_tasks):\n",
    "    tasks.append(exponential(lambda_a))"
   ]
  },
  {
   "cell_type": "code",
   "execution_count": 244,
   "id": "0a2cd59e-3e73-4ec8-a7ad-3a832d51a579",
   "metadata": {},
   "outputs": [],
   "source": [
    "task_id=0\n",
    "task_t=tasks[task_id]\n",
    "t=0\n",
    "queue=[]\n",
    "queue.append(t)\n",
    "serwer_t=exponential(lambda_d)  \n",
    "executed=0\n",
    "tasks_in_queue=[]\n",
    "time_waited=[]\n",
    "executed_tasks=[]\n",
    "tasks_in_queue.append([t,len(queue)])\n",
    "\n",
    "while(executed<n_of_tasks):\n",
    "    if(task_t<=0 and task_id<n_of_tasks-1):\n",
    "        queue.append(t)\n",
    "        tasks_in_queue.append([t,len(queue)])\n",
    "        task_id+=1\n",
    "        task_t=tasks[task_id]\n",
    "    if(len(queue)>0):\n",
    "        if(serwer_t<=0):\n",
    "            serwer_t=exponential(lambda_d)\n",
    "            temp = queue.pop(0)\n",
    "            #print(executed)\n",
    "            executed+=1\n",
    "            time_waited.append(t-temp)\n",
    "            tasks_in_queue.append([t,len(queue)])\n",
    "            executed_tasks.append([t,executed])\n",
    "        serwer_t-=1/3600\n",
    "        #print(serwer_t)\n",
    "    task_t-=1/3600\n",
    "    t+=1/3600"
   ]
  },
  {
   "cell_type": "code",
   "execution_count": 245,
   "id": "0c542da7-d736-4ec9-b787-f2d7bc4cd835",
   "metadata": {},
   "outputs": [
    {
     "name": "stdout",
     "output_type": "stream",
     "text": [
      "0.6311889850574117\n"
     ]
    }
   ],
   "source": [
    "avg_queue=0\n",
    "time=t\n",
    "for i in range(len(tasks_in_queue)-1,-1,-1):\n",
    "    q=tasks_in_queue[i]\n",
    "    temp=time-q[0]\n",
    "    avg_queue+=q[1]*temp\n",
    "    time-=temp\n",
    "avg_queue=avg_queue/t\n",
    "print(avg_queue)"
   ]
  },
  {
   "cell_type": "code",
   "execution_count": 246,
   "id": "550db41c-7609-49cb-8a48-157b61aa2f3c",
   "metadata": {},
   "outputs": [
    {
     "name": "stdout",
     "output_type": "stream",
     "text": [
      "0.3211386111194576\n"
     ]
    }
   ],
   "source": [
    "avg_waited=0\n",
    "\n",
    "for i in range(len(time_waited)):\n",
    "    avg_waited+=time_waited[i]\n",
    "avg_waited=avg_waited/len(time_waited)\n",
    "print(avg_waited)"
   ]
  },
  {
   "cell_type": "code",
   "execution_count": 247,
   "id": "8383791c-4488-429d-a677-7988f5d839ec",
   "metadata": {},
   "outputs": [
    {
     "name": "stdout",
     "output_type": "stream",
     "text": [
      "E(R)*lambda_a = 0.6422772222389151\n",
      "E(N) = 0.6311889850574117\n",
      "diff = 0.011088237181503424\n"
     ]
    }
   ],
   "source": [
    "print(\"E(R)*lambda_a = {}\".format(avg_waited*lambda_a))\n",
    "print(\"E(N) = {}\".format(avg_queue))\n",
    "print(\"diff = {}\".format(abs(avg_queue-avg_waited*lambda_a)))"
   ]
  },
  {
   "cell_type": "code",
   "execution_count": null,
   "id": "758eedc5-3a2e-4769-bfa3-6e78ed88accf",
   "metadata": {},
   "outputs": [],
   "source": []
  },
  {
   "cell_type": "code",
   "execution_count": null,
   "id": "546a4359-ede0-473e-aeb3-081933166255",
   "metadata": {},
   "outputs": [],
   "source": []
  },
  {
   "cell_type": "code",
   "execution_count": null,
   "id": "d4564378-0ddb-4cd6-8f1c-50d6c885c9cb",
   "metadata": {},
   "outputs": [],
   "source": []
  },
  {
   "cell_type": "code",
   "execution_count": null,
   "id": "c90a3b8e-b0d1-496b-9b0e-dfa234044595",
   "metadata": {},
   "outputs": [],
   "source": []
  }
 ],
 "metadata": {
  "kernelspec": {
   "display_name": "Python 3 (ipykernel)",
   "language": "python",
   "name": "python3"
  },
  "language_info": {
   "codemirror_mode": {
    "name": "ipython",
    "version": 3
   },
   "file_extension": ".py",
   "mimetype": "text/x-python",
   "name": "python",
   "nbconvert_exporter": "python",
   "pygments_lexer": "ipython3",
   "version": "3.8.12"
  }
 },
 "nbformat": 4,
 "nbformat_minor": 5
}
