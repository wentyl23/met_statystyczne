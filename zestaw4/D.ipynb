{
 "cells": [
  {
   "cell_type": "code",
   "execution_count": 92,
   "id": "2494a2cb-1496-4e5b-acc3-2b9352ebf45c",
   "metadata": {},
   "outputs": [],
   "source": [
    "import random\n",
    "import matplotlib.pyplot as plt\n",
    "import math\n",
    "import numpy as np"
   ]
  },
  {
   "cell_type": "code",
   "execution_count": 93,
   "id": "f6ea9848-7433-487c-b2cb-a62fa3c8864d",
   "metadata": {},
   "outputs": [],
   "source": [
    "def exponential(l):\n",
    "    u = random.random()\n",
    "    return -math.log(u)/l"
   ]
  },
  {
   "cell_type": "code",
   "execution_count": 94,
   "id": "6ae82b98-4f87-4ccc-8bbf-6fba1c06562e",
   "metadata": {},
   "outputs": [],
   "source": [
    "lambdas_a = [1,5,4,2,9,3,8,15,10]\n",
    "lambdas_d = [10,15,8,3,9,2,4,5,1]\n",
    "ratios = [lambdas_a[i]/lambdas_d[i] for i in range(len(lambdas_a))]\n",
    "n_of_tasks=1000\n",
    "avgs_queue=[]\n",
    "avgs_waited=[]"
   ]
  },
  {
   "cell_type": "code",
   "execution_count": null,
   "id": "7a0e93fa-84ba-40de-90d0-4a405f2fa18c",
   "metadata": {},
   "outputs": [],
   "source": []
  },
  {
   "cell_type": "code",
   "execution_count": 95,
   "id": "0a2cd59e-3e73-4ec8-a7ad-3a832d51a579",
   "metadata": {},
   "outputs": [],
   "source": [
    "for l in range(len(lambdas_a)):\n",
    "    lambda_a=lambdas_a[l]\n",
    "    lambda_d=lambdas_d[l]\n",
    "    tasks=[]\n",
    "    for i in range(n_of_tasks):\n",
    "        tasks.append(exponential(lambda_a))\n",
    "\n",
    "    task_id=0\n",
    "    task_t=tasks[task_id]\n",
    "    t=0\n",
    "    queue=[]\n",
    "    queue.append(t)\n",
    "    serwer_t=exponential(lambda_d)  \n",
    "    executed=0\n",
    "    tasks_in_queue=[]\n",
    "    time_waited=[]\n",
    "    executed_tasks=[]\n",
    "    tasks_in_queue.append([t,len(queue)])\n",
    "\n",
    "    while(executed<n_of_tasks):\n",
    "        if(task_t<=0 and task_id<n_of_tasks-1):\n",
    "            queue.append(t)\n",
    "            tasks_in_queue.append([t,len(queue)])\n",
    "            task_id+=1\n",
    "            task_t=tasks[task_id]\n",
    "        if(len(queue)>0):\n",
    "            if(serwer_t<=0):\n",
    "                serwer_t=exponential(lambda_d)\n",
    "                temp = queue.pop(0)\n",
    "                #print(executed)\n",
    "                executed+=1\n",
    "                time_waited.append(t-temp)\n",
    "                tasks_in_queue.append([t,len(queue)])\n",
    "                executed_tasks.append([t,executed])\n",
    "            serwer_t-=1/3600\n",
    "            #print(serwer_t)\n",
    "        task_t-=1/3600\n",
    "        t+=1/3600\n",
    "        \n",
    "    avg_queue=0\n",
    "    time=t\n",
    "    for i in range(len(tasks_in_queue)-1,-1,-1):\n",
    "        q=tasks_in_queue[i]\n",
    "        temp=time-q[0]\n",
    "        avg_queue+=q[1]*temp\n",
    "        time-=temp\n",
    "    avg_queue=avg_queue/t\n",
    "    avgs_queue.append(avg_queue)\n",
    "    \n",
    "    avg_waited=0\n",
    "    for j in range(len(time_waited)):\n",
    "        avg_waited+=time_waited[j]\n",
    "    avg_waited=avg_waited/len(time_waited)\n",
    "    avgs_waited.append(avg_waited)"
   ]
  },
  {
   "cell_type": "code",
   "execution_count": 96,
   "id": "b17b4a33-f337-4003-94ad-09c9e8fcb5bc",
   "metadata": {},
   "outputs": [
    {
     "name": "stdout",
     "output_type": "stream",
     "text": [
      "[0.1054433333384329, 0.10666194444384859, 0.23830472221909157, 1.3422638889461425, 1.086699444450829, 73.32839416880695, 55.497915277307825, 63.5221855555768, 445.82643668195243]\n",
      "[0.10367121785212861, 0.5456869636164149, 0.9632592612560326, 2.6354426583109922, 9.173491472809616, 151.279035211047, 239.23892700159135, 324.99185388425593, 457.3784179538775]\n"
     ]
    }
   ],
   "source": [
    "print(avgs_waited)\n",
    "print(avgs_queue)"
   ]
  },
  {
   "cell_type": "code",
   "execution_count": 97,
   "id": "0c542da7-d736-4ec9-b787-f2d7bc4cd835",
   "metadata": {},
   "outputs": [
    {
     "data": {
      "text/plain": [
       "<BarContainer object of 9 artists>"
      ]
     },
     "execution_count": 97,
     "metadata": {},
     "output_type": "execute_result"
    },
    {
     "data": {
      "image/png": "[encoded data removed]",
      "text/plain": [
       "<Figure size 432x288 with 1 Axes>"
      ]
     },
     "metadata": {
      "needs_background": "light"
     },
     "output_type": "display_data"
    }
   ],
   "source": [
    "plt.title(\"average tasks in queue\")\n",
    "plt.xlabel(\"lambda_a\")\n",
    "plt.ylabel(\"tasks\")\n",
    "#plt.rcParams['figure.figsize'] = [10, 10]\n",
    "plt.bar([str(l) for l in lambdas_a], avgs_queue)"
   ]
  },
  {
   "cell_type": "code",
   "execution_count": 98,
   "id": "550db41c-7609-49cb-8a48-157b61aa2f3c",
   "metadata": {},
   "outputs": [
    {
     "data": {
      "text/plain": [
       "<BarContainer object of 9 artists>"
      ]
     },
     "execution_count": 98,
     "metadata": {},
     "output_type": "execute_result"
    },
    {
     "data": {
      "image/png": "[encoded data removed]",
      "text/plain": [
       "<Figure size 432x288 with 1 Axes>"
      ]
     },
     "metadata": {
      "needs_background": "light"
     },
     "output_type": "display_data"
    }
   ],
   "source": [
    "plt.title(\"average tasks in queue\")\n",
    "plt.xlabel(\"lambda_d\")\n",
    "plt.ylabel(\"tasks\")\n",
    "#plt.rcParams['figure.figsize'] = [10, 10]\n",
    "plt.bar([str(l) for l in lambdas_d], avgs_queue)"
   ]
  },
  {
   "cell_type": "code",
   "execution_count": 99,
   "id": "8383791c-4488-429d-a677-7988f5d839ec",
   "metadata": {},
   "outputs": [
    {
     "data": {
      "text/plain": [
       "<BarContainer object of 9 artists>"
      ]
     },
     "execution_count": 99,
     "metadata": {},
     "output_type": "execute_result"
    },
    {
     "data": {
      "image/png": "[encoded data removed]",
      "text/plain": [
       "<Figure size 432x288 with 1 Axes>"
      ]
     },
     "metadata": {
      "needs_background": "light"
     },
     "output_type": "display_data"
    }
   ],
   "source": [
    "plt.title(\"average tasks in queue\")\n",
    "plt.xlabel(\"r\")\n",
    "plt.ylabel(\"tasks\")\n",
    "#plt.rcParams['figure.figsize'] = [10, 10]\n",
    "plt.bar([str(round(l, 2)) for l in ratios], avgs_queue)"
   ]
  },
  {
   "cell_type": "code",
   "execution_count": 100,
   "id": "758eedc5-3a2e-4769-bfa3-6e78ed88accf",
   "metadata": {},
   "outputs": [
    {
     "data": {
      "text/plain": [
       "<BarContainer object of 9 artists>"
      ]
     },
     "execution_count": 100,
     "metadata": {},
     "output_type": "execute_result"
    },
    {
     "data": {
      "image/png": "[encoded data removed]",
      "text/plain": [
       "<Figure size 432x288 with 1 Axes>"
      ]
     },
     "metadata": {
      "needs_background": "light"
     },
     "output_type": "display_data"
    }
   ],
   "source": [
    "plt.title(\"average time waited in queue\")\n",
    "plt.xlabel(\"lambda_a\")\n",
    "plt.ylabel(\"time\")\n",
    "#plt.rcParams['figure.figsize'] = [10, 10]\n",
    "plt.bar([str(l) for l in lambdas_a], avgs_waited)"
   ]
  },
  {
   "cell_type": "code",
   "execution_count": 101,
   "id": "546a4359-ede0-473e-aeb3-081933166255",
   "metadata": {},
   "outputs": [
    {
     "data": {
      "text/plain": [
       "<BarContainer object of 9 artists>"
      ]
     },
     "execution_count": 101,
     "metadata": {},
     "output_type": "execute_result"
    },
    {
     "data": {
      "image/png": "[encoded data removed]",
      "text/plain": [
       "<Figure size 432x288 with 1 Axes>"
      ]
     },
     "metadata": {
      "needs_background": "light"
     },
     "output_type": "display_data"
    }
   ],
   "source": [
    "plt.title(\"average time waited in queue\")\n",
    "plt.xlabel(\"lambda_d\")\n",
    "plt.ylabel(\"time\")\n",
    "#plt.rcParams['figure.figsize'] = [10, 10]\n",
    "plt.bar([str(l) for l in lambdas_d], avgs_waited)"
   ]
  },
  {
   "cell_type": "code",
   "execution_count": 102,
   "id": "d4564378-0ddb-4cd6-8f1c-50d6c885c9cb",
   "metadata": {},
   "outputs": [
    {
     "data": {
      "text/plain": [
       "<BarContainer object of 9 artists>"
      ]
     },
     "execution_count": 102,
     "metadata": {},
     "output_type": "execute_result"
    },
    {
     "data": {
      "image/png": "[encoded data removed]",
      "text/plain": [
       "<Figure size 432x288 with 1 Axes>"
      ]
     },
     "metadata": {
      "needs_background": "light"
     },
     "output_type": "display_data"
    }
   ],
   "source": [
    "plt.title(\"average time waited in queue\")\n",
    "plt.xlabel(\"ratio\")\n",
    "plt.ylabel(\"time\")\n",
    "#plt.rcParams['figure.figsize'] = [10, 10]\n",
    "plt.bar([str(round(l, 2)) for l in ratios], avgs_waited)"
   ]
  },
  {
   "cell_type": "code",
   "execution_count": null,
   "id": "c90a3b8e-b0d1-496b-9b0e-dfa234044595",
   "metadata": {},
   "outputs": [],
   "source": []
  },
  {
   "cell_type": "code",
   "execution_count": null,
   "id": "caa6a5d5-9857-4621-acd0-dee710f5f3b1",
   "metadata": {},
   "outputs": [],
   "source": []
  }
 ],
 "metadata": {
  "kernelspec": {
   "display_name": "Python 3 (ipykernel)",
   "language": "python",
   "name": "python3"
  },
  "language_info": {
   "codemirror_mode": {
    "name": "ipython",
    "version": 3
   },
   "file_extension": ".py",
   "mimetype": "text/x-python",
   "name": "python",
   "nbconvert_exporter": "python",
   "pygments_lexer": "ipython3",
   "version": "3.8.12"
  }
 },
 "nbformat": 4,
 "nbformat_minor": 5
}
