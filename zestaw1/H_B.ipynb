{
 "cells": [
  {
   "cell_type": "code",
   "execution_count": 3,
   "id": "7d2eb242-a354-470c-b68b-d3998ae79c50",
   "metadata": {},
   "outputs": [],
   "source": [
    "import random\n",
    "import matplotlib.pyplot as plt\n",
    "import math\n",
    "import numpy as np"
   ]
  },
  {
   "cell_type": "markdown",
   "id": "9ea3569a-55ec-4829-91c6-05710cf3e6e2",
   "metadata": {},
   "source": [
    "### Problem H"
   ]
  },
  {
   "cell_type": "markdown",
   "id": "91ed9791-2ad9-4c01-a83d-9edae4be9516",
   "metadata": {},
   "source": [
    "problem B with few players"
   ]
  },
  {
   "cell_type": "code",
   "execution_count": 80,
   "id": "38a4d8b9-0bf7-481b-b7ff-d62ea2cf961d",
   "metadata": {},
   "outputs": [],
   "source": [
    "def simulate_game(capital, players_prob, N):\n",
    "    players=len(players_prob)\n",
    "    player_ruins = [0] * players\n",
    "    for i in range(N):\n",
    "        finished=False\n",
    "        player_capitals = [] \n",
    "        lottery_tickets=[]\n",
    "        for i in range(players):\n",
    "            player_capitals.append(capital)\n",
    "            player_tickets = [i] * int(players_prob[i] * 100)\n",
    "            lottery_tickets.extend(player_tickets)\n",
    "        \n",
    "        random.shuffle(lottery_tickets)\n",
    "        while not finished:\n",
    "            result = random.randint(0,len(lottery_tickets)-1)\n",
    "            winner = lottery_tickets[result]\n",
    "            for i in range(players):\n",
    "                if i == winner:\n",
    "                    player_capitals[i]+=4\n",
    "                    continue\n",
    "                player_capitals[i]-=1\n",
    "                if player_capitals[i]==0:\n",
    "                    player_ruins[i]+=1\n",
    "                    finished=True\n",
    "    \n",
    "    p_of_ruin = player_ruins[0]/N\n",
    "    print(player_ruins[0])\n",
    "    return p_of_ruin"
   ]
  },
  {
   "cell_type": "code",
   "execution_count": 81,
   "id": "9fdef892-b8e0-45d6-ae65-01a12a8f6004",
   "metadata": {},
   "outputs": [
    {
     "name": "stdout",
     "output_type": "stream",
     "text": [
      "214\n",
      "88\n",
      "63\n",
      "58\n"
     ]
    },
    {
     "data": {
      "image/png": "[encoded data removed]",
      "text/plain": [
       "<Figure size 504x504 with 1 Axes>"
      ]
     },
     "metadata": {
      "needs_background": "light"
     },
     "output_type": "display_data"
    }
   ],
   "source": [
    "plots=1\n",
    "capital = 50 \n",
    "probs = [1/5,2/5,3/5,4/5]\n",
    "rounds=1000\n",
    "\n",
    "fig,ax =  plt.subplots(plots,figsize=(7,7))\n",
    "for j in range(plots):\n",
    "    propabilities=[]\n",
    "    prob_of_ruin_sim=[]\n",
    "    for p in probs:\n",
    "        propabilities.append(p)\n",
    "        propabilities.extend([(1-p)/4]*4)\n",
    "        prob_of_ruin_sim.append(simulate_game(capital,propabilities,rounds))\n",
    "    ax.set_xlabel('pA')\n",
    "    ax.set_ylabel('p of A ruin')\n",
    "    ax.set_title(\"capital=\" + str(capital))\n",
    "    ax.plot(probs,prob_of_ruin_sim, color = \"red\")\n",
    "plt.show()"
   ]
  },
  {
   "cell_type": "code",
   "execution_count": null,
   "id": "4ae1f840-c0ac-444d-b239-cbaf1de4c441",
   "metadata": {},
   "outputs": [],
   "source": []
  },
  {
   "cell_type": "code",
   "execution_count": null,
   "id": "ca1875e6-2971-4812-96cb-54cb97db0623",
   "metadata": {},
   "outputs": [],
   "source": []
  }
 ],
 "metadata": {
  "kernelspec": {
   "display_name": "Python 3 (ipykernel)",
   "language": "python",
   "name": "python3"
  },
  "language_info": {
   "codemirror_mode": {
    "name": "ipython",
    "version": 3
   },
   "file_extension": ".py",
   "mimetype": "text/x-python",
   "name": "python",
   "nbconvert_exporter": "python",
   "pygments_lexer": "ipython3",
   "version": "3.9.7"
  }
 },
 "nbformat": 4,
 "nbformat_minor": 5
}
