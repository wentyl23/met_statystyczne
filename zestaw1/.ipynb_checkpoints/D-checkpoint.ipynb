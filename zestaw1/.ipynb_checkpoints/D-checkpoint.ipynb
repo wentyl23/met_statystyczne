{
 "cells": [
  {
   "cell_type": "code",
   "execution_count": null,
   "id": "bc53d682-0a39-4093-b862-055a69bdcafb",
   "metadata": {},
   "outputs": [],
   "source": [
    "import random\n",
    "import matplotlib.pyplot as plt\n",
    "import math"
   ]
  },
  {
   "cell_type": "code",
   "execution_count": 1,
   "id": "97ce6672-f66b-498b-bc16-bf3fd665a0a7",
   "metadata": {},
   "outputs": [],
   "source": [
    "### Problem D"
   ]
  },
  {
   "cell_type": "code",
   "execution_count": 2,
   "id": "2d321ab6-ad45-40bd-b066-703dbd586fe9",
   "metadata": {},
   "outputs": [],
   "source": [
    "def simulate_game(a,b,p,N):\n",
    "    q=1-p\n",
    "    a_ruins=0\n",
    "    b_ruins=0\n",
    "    games=0\n",
    "    for i in range(N):\n",
    "        curr_a = a\n",
    "        curr_b = b\n",
    "        while curr_a > 0 and curr_b > 0:\n",
    "            if random.random() < p :\n",
    "                curr_a+=1\n",
    "                curr_b-=1\n",
    "            else:\n",
    "                curr_a-=1\n",
    "                curr_b+=1\n",
    "            games+=1\n",
    "        if curr_a==0:\n",
    "            a_ruins+=1\n",
    "        else:\n",
    "            b_ruins+=1\n",
    "    \n",
    "    p_of_ruin = a_ruins/N\n",
    "\n",
    "    return p_of_ruin,games"
   ]
  },
  {
   "cell_type": "code",
   "execution_count": null,
   "id": "ecebf342-519f-4f01-9536-d56e80c7b873",
   "metadata": {},
   "outputs": [],
   "source": [
    "plots=3\n",
    "a=50\n",
    "b=50\n",
    "probs=[1/2,1/5,4/5]\n",
    "rounds=20000\n",
    "\n",
    "fig,ax =  plt.subplots(plots,figsize=(20,20))\n",
    "\n",
    "for j in range(plots):\n",
    "    a=a_vals[j]\n",
    "    b=b_vals[j]\n",
    "    z=a+b\n",
    "    probs_of_ruin=[]\n",
    "    probs_of_ruin_sim=[]\n",
    "    probs=[]\n",
    "    for i in range(1,100):\n",
    "        p=i/100\n",
    "        q=1-p\n",
    "        probs.append(p)\n",
    "        probs_of_ruin_sim.append(simulate_game(a,b,p,rounds))\n",
    "        if p==0.5:\n",
    "            probs_of_ruin.append(1-a/z)\n",
    "        else:\n",
    "            probs_of_ruin.append(((q/p)**a - (q/p)**z)/(1-(q/p)**z))\n",
    "\n",
    "    ax[j].set_title(\"a=\"+str(a) + \" b=\"+str(b))\n",
    "    ax[j].plot(probs,probs_of_ruin_sim, color = \"red\")\n",
    "    ax[j].plot(probs,probs_of_ruin, color = \"blue\")\n",
    "plt.show()"
   ]
  },
  {
   "cell_type": "code",
   "execution_count": null,
   "id": "8b87e246-b8d8-4158-8a07-06de20a87e08",
   "metadata": {},
   "outputs": [],
   "source": []
  },
  {
   "cell_type": "code",
   "execution_count": null,
   "id": "5d4d192a-9ad3-4943-90c2-d2bfa2b568fc",
   "metadata": {},
   "outputs": [],
   "source": []
  }
 ],
 "metadata": {
  "kernelspec": {
   "display_name": "Python 3 (ipykernel)",
   "language": "python",
   "name": "python3"
  },
  "language_info": {
   "codemirror_mode": {
    "name": "ipython",
    "version": 3
   },
   "file_extension": ".py",
   "mimetype": "text/x-python",
   "name": "python",
   "nbconvert_exporter": "python",
   "pygments_lexer": "ipython3",
   "version": "3.9.7"
  }
 },
 "nbformat": 4,
 "nbformat_minor": 5
}
