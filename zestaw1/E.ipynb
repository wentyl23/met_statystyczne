{
 "cells": [
  {
   "cell_type": "code",
   "execution_count": null,
   "id": "14b2bb15-255d-4181-b1ac-38538544ccb0",
   "metadata": {},
   "outputs": [],
   "source": [
    "import random\n",
    "import matplotlib.pyplot as plt\n",
    "import math"
   ]
  },
  {
   "cell_type": "markdown",
   "id": "81b08754-c778-457d-8d76-5ea1bf89af82",
   "metadata": {},
   "source": [
    "### Problem E"
   ]
  },
  {
   "cell_type": "code",
   "execution_count": null,
   "id": "54f42de1-344f-401c-adb2-29bd5595f3aa",
   "metadata": {},
   "outputs": [],
   "source": [
    "def simulate_game(a,b,p,N):\n",
    "    q=1-p\n",
    "    a_ruins=0\n",
    "    b_ruins=0\n",
    "    games=[]\n",
    "    for i in range(N):\n",
    "        rounds = 0\n",
    "        curr_a = a\n",
    "        curr_b = b\n",
    "        while curr_a > 0 and curr_b > 0:\n",
    "            if random.random() < p :\n",
    "                curr_a+=1\n",
    "                curr_b-=1\n",
    "            else:\n",
    "                curr_a-=1\n",
    "                curr_b+=1\n",
    "            rounds+=1\n",
    "        if curr_a==0:\n",
    "            a_ruins+=1\n",
    "        else:\n",
    "            b_ruins+=1\n",
    "        games.append(rounds)\n",
    "    \n",
    "    p_of_ruin = a_ruins/N\n",
    "\n",
    "    return p_of_ruin, games"
   ]
  },
  {
   "cell_type": "code",
   "execution_count": null,
   "id": "be59d4de-33dc-4307-8385-cf8ad3253c2b",
   "metadata": {},
   "outputs": [],
   "source": [
    "a=50\n",
    "b=50\n",
    "z=a+b\n",
    "probs=[1/2,1/5,4/5]\n",
    "plots=len(probs)\n",
    "games=20000\n",
    "\n",
    "fig,ax =  plt.subplots(plots,figsize=(20,20))\n",
    "\n",
    "for i in range(1,100):\n",
    "    p=i/100\n",
    "    q=1-p\n",
    "    p_of_ruin, sim_games = simulate_game(a,b,p,games)\n",
    "    average_rounds=sum(sim_games)/len(sim_games)\n",
    "    ax[i].hist(sim_games,density=True, bins=30)\n",
    "    ax[i].set_title(\"average rounds for p=\" + str(p) + \" - \" + str(average_rounds))\n",
    "    \n",
    "plt.show()"
   ]
  }
 ],
 "metadata": {
  "kernelspec": {
   "display_name": "Python 3 (ipykernel)",
   "language": "python",
   "name": "python3"
  },
  "language_info": {
   "codemirror_mode": {
    "name": "ipython",
    "version": 3
   },
   "file_extension": ".py",
   "mimetype": "text/x-python",
   "name": "python",
   "nbconvert_exporter": "python",
   "pygments_lexer": "ipython3",
   "version": "3.9.7"
  }
 },
 "nbformat": 4,
 "nbformat_minor": 5
}
