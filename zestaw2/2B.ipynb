{
 "cells": [
  {
   "cell_type": "code",
   "execution_count": 2,
   "id": "99c9e4f4-a167-4296-95ff-745721bd4beb",
   "metadata": {},
   "outputs": [],
   "source": [
    "import random\n",
    "import matplotlib.pyplot as plt\n",
    "import math\n",
    "import numpy as np"
   ]
  },
  {
   "cell_type": "code",
   "execution_count": 3,
   "id": "974c23da-b6c7-46f2-b378-321ad42766c1",
   "metadata": {},
   "outputs": [],
   "source": [
    "def calc_probs(p_login,p_logout):\n",
    "    p_not_logout = 1 - p_logout\n",
    "    p_not_login = 1 - p_login\n",
    "    P=[]\n",
    "    P.append([p_not_login*p_not_login, p_not_login*p_login*2, p_login*p_login])\n",
    "    P.append([p_not_login*p_logout, p_not_login*p_not_logout + p_login * p_logout, p_not_logout * p_login])\n",
    "    P.append([p_logout*p_logout, p_not_logout*p_logout*2, p_not_logout*p_not_logout])\n",
    "    return P"
   ]
  },
  {
   "cell_type": "code",
   "execution_count": 18,
   "id": "04a0b8c7-e4fc-49db-be31-d8b2cd3659a3",
   "metadata": {},
   "outputs": [],
   "source": [
    "p_login = 0.2\n",
    "p_logout = 0.5\n",
    "\n",
    "probs = calc_probs(p_login, p_logout)\n",
    "P = np.array(probs)\n",
    "P_n = [0.51,  0.408, 0.082]"
   ]
  },
  {
   "cell_type": "code",
   "execution_count": 28,
   "id": "7c9fb391-0c71-45d2-9c1b-ee97d7a59341",
   "metadata": {},
   "outputs": [
    {
     "name": "stdout",
     "output_type": "stream",
     "text": [
      "p for x_start = 1\n",
      "[0.5035999999999609, 0.4098999999999712, 0.08650000000000145]\n",
      "difference\n",
      "[0.006400000000039152, 0.0018999999999712025, 0.004500000000001447]\n",
      "\n",
      "p for x_start = 0\n",
      "[0.5093999999999602, 0.41029999999997113, 0.08030000000000127]\n",
      "difference\n",
      "[0.0006000000000397909, 0.0022999999999711584, 0.0016999999999987303]\n",
      "\n",
      "p for x_start = 1\n",
      "[0.5078999999999604, 0.41099999999997106, 0.0811000000000013]\n",
      "difference\n",
      "[0.0021000000000396257, 0.0029999999999710814, 0.0008999999999987074]\n",
      "\n"
     ]
    }
   ],
   "source": [
    "N=10000\n",
    "x_start = [0,1,2]\n",
    "for x in x_start:\n",
    "    states=[0]*3\n",
    "    for i in range(N):\n",
    "        u = random.random()\n",
    "        if(u<P[x,0]):\n",
    "            x=0\n",
    "        else:\n",
    "            u=random.random()\n",
    "            ratio = P[x,1]/P[x,2]\n",
    "            scale = 1/(ratio+1)\n",
    "            if(u<ratio*scale):\n",
    "                x=1\n",
    "            else:\n",
    "                x=2\n",
    "        states[x]+=1/N    \n",
    "    diff = [abs(states[i]-P_n[i]) for i in range(len(states))]\n",
    "    print(\"p for x_start = {}\".format(x))\n",
    "    print(states)\n",
    "    print(\"difference\") \n",
    "    print(diff)\n",
    "    print()"
   ]
  },
  {
   "cell_type": "code",
   "execution_count": null,
   "id": "e59b200a-63a5-49e0-ba36-66dfb9b2d922",
   "metadata": {},
   "outputs": [],
   "source": []
  },
  {
   "cell_type": "code",
   "execution_count": null,
   "id": "acb7d410-c23e-4b27-9da5-0a785c057304",
   "metadata": {},
   "outputs": [],
   "source": []
  }
 ],
 "metadata": {
  "kernelspec": {
   "display_name": "Python 3 (ipykernel)",
   "language": "python",
   "name": "python3"
  },
  "language_info": {
   "codemirror_mode": {
    "name": "ipython",
    "version": 3
   },
   "file_extension": ".py",
   "mimetype": "text/x-python",
   "name": "python",
   "nbconvert_exporter": "python",
   "pygments_lexer": "ipython3",
   "version": "3.7.11"
  }
 },
 "nbformat": 4,
 "nbformat_minor": 5
}
